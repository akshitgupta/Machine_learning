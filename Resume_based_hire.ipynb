{
  "nbformat": 4,
  "nbformat_minor": 0,
  "metadata": {
    "kernelspec": {
      "display_name": "Python 2",
      "language": "python",
      "name": "python2"
    },
    "language_info": {
      "codemirror_mode": {
        "name": "ipython",
        "version": 2
      },
      "file_extension": ".py",
      "mimetype": "text/x-python",
      "name": "python",
      "nbconvert_exporter": "python",
      "pygments_lexer": "ipython2",
      "version": "2.7.10"
    },
    "colab": {
      "name": "Resume_based_hire.ipynb",
      "provenance": [],
      "toc_visible": true,
      "include_colab_link": true
    }
  },
  "cells": [
    {
      "cell_type": "markdown",
      "metadata": {
        "id": "view-in-github",
        "colab_type": "text"
      },
      "source": [
        "<a href=\"https://colab.research.google.com/github/akshitgupta/Machine_learning/blob/main/Resume_based_hire.ipynb\" target=\"_parent\"><img src=\"https://colab.research.google.com/assets/colab-badge.svg\" alt=\"Open In Colab\"/></a>"
      ]
    },
    {
      "cell_type": "markdown",
      "metadata": {
        "id": "Y8WaLlni_nVr"
      },
      "source": [
        "# Decison Trees"
      ]
    },
    {
      "cell_type": "markdown",
      "metadata": {
        "id": "PELM4JC0_nVv"
      },
      "source": [
        "First we'll load some fake data on past hires I made up. Note how we use pandas to convert a csv file into a DataFrame:"
      ]
    },
    {
      "cell_type": "code",
      "metadata": {
        "id": "lDvBuE10_nVx"
      },
      "source": [
        "import numpy as np\n",
        "import pandas as pd\n",
        "from sklearn import tree\n",
        "\n",
        "input_file = \"PastHires.csv\"\n",
        "df = pd.read_csv(input_file, header = 0)"
      ],
      "execution_count": 3,
      "outputs": []
    },
    {
      "cell_type": "code",
      "metadata": {
        "id": "1GhLh8sl_nV4",
        "outputId": "55fe8f12-3d29-4dc3-8736-f230046ca0e9",
        "colab": {
          "base_uri": "https://localhost:8080/",
          "height": 204
        }
      },
      "source": [
        "df.head()"
      ],
      "execution_count": 4,
      "outputs": [
        {
          "output_type": "execute_result",
          "data": {
            "text/plain": [
              "   Years Experience Employed?  Previous employers Level of Education  \\\n",
              "0                10         Y                   4                 BS   \n",
              "1                 0         N                   0                 BS   \n",
              "2                 7         N                   6                 BS   \n",
              "3                 2         Y                   1                 MS   \n",
              "4                20         N                   2                PhD   \n",
              "\n",
              "  Top-tier school Interned Hired  \n",
              "0               N        N     Y  \n",
              "1               Y        Y     Y  \n",
              "2               N        N     N  \n",
              "3               Y        N     Y  \n",
              "4               Y        N     N  "
            ],
            "text/html": [
              "<div>\n",
              "<style scoped>\n",
              "    .dataframe tbody tr th:only-of-type {\n",
              "        vertical-align: middle;\n",
              "    }\n",
              "\n",
              "    .dataframe tbody tr th {\n",
              "        vertical-align: top;\n",
              "    }\n",
              "\n",
              "    .dataframe thead th {\n",
              "        text-align: right;\n",
              "    }\n",
              "</style>\n",
              "<table border=\"1\" class=\"dataframe\">\n",
              "  <thead>\n",
              "    <tr style=\"text-align: right;\">\n",
              "      <th></th>\n",
              "      <th>Years Experience</th>\n",
              "      <th>Employed?</th>\n",
              "      <th>Previous employers</th>\n",
              "      <th>Level of Education</th>\n",
              "      <th>Top-tier school</th>\n",
              "      <th>Interned</th>\n",
              "      <th>Hired</th>\n",
              "    </tr>\n",
              "  </thead>\n",
              "  <tbody>\n",
              "    <tr>\n",
              "      <th>0</th>\n",
              "      <td>10</td>\n",
              "      <td>Y</td>\n",
              "      <td>4</td>\n",
              "      <td>BS</td>\n",
              "      <td>N</td>\n",
              "      <td>N</td>\n",
              "      <td>Y</td>\n",
              "    </tr>\n",
              "    <tr>\n",
              "      <th>1</th>\n",
              "      <td>0</td>\n",
              "      <td>N</td>\n",
              "      <td>0</td>\n",
              "      <td>BS</td>\n",
              "      <td>Y</td>\n",
              "      <td>Y</td>\n",
              "      <td>Y</td>\n",
              "    </tr>\n",
              "    <tr>\n",
              "      <th>2</th>\n",
              "      <td>7</td>\n",
              "      <td>N</td>\n",
              "      <td>6</td>\n",
              "      <td>BS</td>\n",
              "      <td>N</td>\n",
              "      <td>N</td>\n",
              "      <td>N</td>\n",
              "    </tr>\n",
              "    <tr>\n",
              "      <th>3</th>\n",
              "      <td>2</td>\n",
              "      <td>Y</td>\n",
              "      <td>1</td>\n",
              "      <td>MS</td>\n",
              "      <td>Y</td>\n",
              "      <td>N</td>\n",
              "      <td>Y</td>\n",
              "    </tr>\n",
              "    <tr>\n",
              "      <th>4</th>\n",
              "      <td>20</td>\n",
              "      <td>N</td>\n",
              "      <td>2</td>\n",
              "      <td>PhD</td>\n",
              "      <td>Y</td>\n",
              "      <td>N</td>\n",
              "      <td>N</td>\n",
              "    </tr>\n",
              "  </tbody>\n",
              "</table>\n",
              "</div>"
            ]
          },
          "metadata": {
            "tags": []
          },
          "execution_count": 4
        }
      ]
    },
    {
      "cell_type": "markdown",
      "metadata": {
        "id": "LeS_OwY9_nV_"
      },
      "source": [
        "scikit-learn needs everything to be numerical for decision trees to work. So, we'll map Y,N to 1,0 and levels of education to some scale of 0-2. In the real world, you'd need to think about how to deal with unexpected or missing data! By using map(), we know we'll get NaN for unexpected values."
      ]
    },
    {
      "cell_type": "code",
      "metadata": {
        "id": "7tIXJsnh_nWB",
        "outputId": "f0ec1384-9539-4eff-83f3-0674a23435c6",
        "colab": {
          "base_uri": "https://localhost:8080/",
          "height": 204
        }
      },
      "source": [
        "d = {'Y': 1, 'N': 0}\n",
        "df['Hired'] = df['Hired'].map(d)\n",
        "df['Employed?'] = df['Employed?'].map(d)\n",
        "df['Top-tier school'] = df['Top-tier school'].map(d)\n",
        "df['Interned'] = df['Interned'].map(d)\n",
        "d = {'BS': 0, 'MS': 1, 'PhD': 2}\n",
        "df['Level of Education'] = df['Level of Education'].map(d)\n",
        "df.head()"
      ],
      "execution_count": 5,
      "outputs": [
        {
          "output_type": "execute_result",
          "data": {
            "text/plain": [
              "   Years Experience  Employed?  Previous employers  Level of Education  \\\n",
              "0                10          1                   4                   0   \n",
              "1                 0          0                   0                   0   \n",
              "2                 7          0                   6                   0   \n",
              "3                 2          1                   1                   1   \n",
              "4                20          0                   2                   2   \n",
              "\n",
              "   Top-tier school  Interned  Hired  \n",
              "0                0         0      1  \n",
              "1                1         1      1  \n",
              "2                0         0      0  \n",
              "3                1         0      1  \n",
              "4                1         0      0  "
            ],
            "text/html": [
              "<div>\n",
              "<style scoped>\n",
              "    .dataframe tbody tr th:only-of-type {\n",
              "        vertical-align: middle;\n",
              "    }\n",
              "\n",
              "    .dataframe tbody tr th {\n",
              "        vertical-align: top;\n",
              "    }\n",
              "\n",
              "    .dataframe thead th {\n",
              "        text-align: right;\n",
              "    }\n",
              "</style>\n",
              "<table border=\"1\" class=\"dataframe\">\n",
              "  <thead>\n",
              "    <tr style=\"text-align: right;\">\n",
              "      <th></th>\n",
              "      <th>Years Experience</th>\n",
              "      <th>Employed?</th>\n",
              "      <th>Previous employers</th>\n",
              "      <th>Level of Education</th>\n",
              "      <th>Top-tier school</th>\n",
              "      <th>Interned</th>\n",
              "      <th>Hired</th>\n",
              "    </tr>\n",
              "  </thead>\n",
              "  <tbody>\n",
              "    <tr>\n",
              "      <th>0</th>\n",
              "      <td>10</td>\n",
              "      <td>1</td>\n",
              "      <td>4</td>\n",
              "      <td>0</td>\n",
              "      <td>0</td>\n",
              "      <td>0</td>\n",
              "      <td>1</td>\n",
              "    </tr>\n",
              "    <tr>\n",
              "      <th>1</th>\n",
              "      <td>0</td>\n",
              "      <td>0</td>\n",
              "      <td>0</td>\n",
              "      <td>0</td>\n",
              "      <td>1</td>\n",
              "      <td>1</td>\n",
              "      <td>1</td>\n",
              "    </tr>\n",
              "    <tr>\n",
              "      <th>2</th>\n",
              "      <td>7</td>\n",
              "      <td>0</td>\n",
              "      <td>6</td>\n",
              "      <td>0</td>\n",
              "      <td>0</td>\n",
              "      <td>0</td>\n",
              "      <td>0</td>\n",
              "    </tr>\n",
              "    <tr>\n",
              "      <th>3</th>\n",
              "      <td>2</td>\n",
              "      <td>1</td>\n",
              "      <td>1</td>\n",
              "      <td>1</td>\n",
              "      <td>1</td>\n",
              "      <td>0</td>\n",
              "      <td>1</td>\n",
              "    </tr>\n",
              "    <tr>\n",
              "      <th>4</th>\n",
              "      <td>20</td>\n",
              "      <td>0</td>\n",
              "      <td>2</td>\n",
              "      <td>2</td>\n",
              "      <td>1</td>\n",
              "      <td>0</td>\n",
              "      <td>0</td>\n",
              "    </tr>\n",
              "  </tbody>\n",
              "</table>\n",
              "</div>"
            ]
          },
          "metadata": {
            "tags": []
          },
          "execution_count": 5
        }
      ]
    },
    {
      "cell_type": "markdown",
      "metadata": {
        "id": "XeNHTIvh_nWH"
      },
      "source": [
        "Next we need to separate the features from the target column that we're trying to bulid a decision tree for."
      ]
    },
    {
      "cell_type": "code",
      "metadata": {
        "id": "10I4ocyP_nWJ",
        "outputId": "8863d53e-c1d9-4ed5-e1cc-b2ec18b0663a",
        "colab": {
          "base_uri": "https://localhost:8080/",
          "height": 119
        }
      },
      "source": [
        "features = list(df.columns[:6])\n",
        "features"
      ],
      "execution_count": 6,
      "outputs": [
        {
          "output_type": "execute_result",
          "data": {
            "text/plain": [
              "['Years Experience',\n",
              " 'Employed?',\n",
              " 'Previous employers',\n",
              " 'Level of Education',\n",
              " 'Top-tier school',\n",
              " 'Interned']"
            ]
          },
          "metadata": {
            "tags": []
          },
          "execution_count": 6
        }
      ]
    },
    {
      "cell_type": "markdown",
      "metadata": {
        "id": "8BpkoZdn_nWR"
      },
      "source": [
        "Now actually construct the decision tree:"
      ]
    },
    {
      "cell_type": "code",
      "metadata": {
        "id": "nYX6kQ8a_nWZ"
      },
      "source": [
        "y = df[\"Hired\"]\n",
        "X = df[features]\n",
        "clf = tree.DecisionTreeClassifier()\n",
        "clf = clf.fit(X,y)"
      ],
      "execution_count": 7,
      "outputs": []
    },
    {
      "cell_type": "markdown",
      "metadata": {
        "id": "MbBATvce_nWf"
      },
      "source": [
        "... and display it. Note you need to have pyplot2 installed for this to work.\n",
        "\n",
        "To read this decision tree, each condition branches left for \"true\" and right for \"false\". When you end up at a value, the value array represents how many samples exist in each target value. So value = [0. 5.] mean there are 0 \"no hires\" and 5 \"hires\" by the tim we get to that point. value = [3. 0.] means 3 no-hires and 0 hires."
      ]
    },
    {
      "cell_type": "code",
      "metadata": {
        "id": "4k9tYNmd_nWg",
        "outputId": "d8440c91-b74c-4631-9a37-69499fa48f4b",
        "colab": {
          "base_uri": "https://localhost:8080/",
          "height": 653
        }
      },
      "source": [
        "from IPython.display import Image  \n",
        "from sklearn.externals.six import StringIO  \n",
        "import pydot \n",
        "\n",
        "dot_data = StringIO()  \n",
        "tree.export_graphviz(clf, out_file=dot_data,  \n",
        "                         feature_names=features)   \n",
        "(graph,) = pydot.graph_from_dot_data(dot_data.getvalue())\n",
        "Image(graph.create_png())  "
      ],
      "execution_count": 10,
      "outputs": [
        {
          "output_type": "execute_result",
          "data": {
            "image/png": "[encoded data removed]",
            "text/plain": [
              "<IPython.core.display.Image object>"
            ]
          },
          "metadata": {
            "tags": []
          },
          "execution_count": 10
        }
      ]
    },
    {
      "cell_type": "markdown",
      "metadata": {
        "id": "AsTwZMkA_nWn"
      },
      "source": [
        "## Ensemble learning: using a random forest"
      ]
    },
    {
      "cell_type": "markdown",
      "metadata": {
        "id": "8dAbkrPx_nWp"
      },
      "source": [
        "We'll use a random forest of 10 decision trees to predict employment of specific candidate profiles:"
      ]
    },
    {
      "cell_type": "code",
      "metadata": {
        "id": "_6IK0PhI_nWq",
        "outputId": "1e628a68-f5a7-43ac-a48f-60a84c8f4802",
        "colab": {
          "base_uri": "https://localhost:8080/",
          "height": 51
        }
      },
      "source": [
        "from sklearn.ensemble import RandomForestClassifier\n",
        "\n",
        "clf = RandomForestClassifier(n_estimators=10)\n",
        "clf = clf.fit(X, y)\n",
        "\n",
        "#Predict employment of an employed 10-year veteran\n",
        "print clf.predict([[10, 1, 4, 0, 0, 0]])\n",
        "#...and an unemployed 10-year veteran\n",
        "print clf.predict([[10, 0, 4, 0, 0, 0]])"
      ],
      "execution_count": 14,
      "outputs": [
        {
          "output_type": "stream",
          "text": [
            "[1]\n",
            "[0]\n"
          ],
          "name": "stdout"
        }
      ]
    },
    {
      "cell_type": "code",
      "metadata": {
        "id": "akUNdh2BGS7T"
      },
      "source": [
        ""
      ],
      "execution_count": null,
      "outputs": []
    }
  ]
}